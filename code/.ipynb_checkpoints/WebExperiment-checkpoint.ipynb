{
 "cells": [
  {
   "cell_type": "code",
   "execution_count": 1,
   "metadata": {
    "collapsed": true
   },
   "outputs": [],
   "source": [
    "import numpy as np"
   ]
  },
  {
   "cell_type": "code",
   "execution_count": 2,
   "metadata": {
    "collapsed": true
   },
   "outputs": [],
   "source": [
    "def make_p_matrix(matrix):\n",
    "    row_sums = matrix.sum(axis=1)\n",
    "    return matrix / row_sums[:]\n",
    "\n",
    "def fix_dangling_node(H):\n",
    "    # Finds which rows have all elements zeros\n",
    "    # d is a column vector that identifies dangling nodes\n",
    "    d = ~(H.any(axis=1))\n",
    "    # w is a uniform row vector\n",
    "    w = np.full(H.shape[1], 1/H.shape[1])\n",
    "    S = H + d*w\n",
    "    return S\n",
    "\n",
    "def form_google_matrix(S, v=None, alpha=0.85):\n",
    "    if v is None:\n",
    "         v = np.full(S.shape[1], 1/S.shape[1])\n",
    "    one_vector = np.ones(S.shape[0])\n",
    "    return alpha*S + (1-alpha)*one_vector*v\n",
    "\n",
    "\n",
    "def power_method2(H, v=None, alpha=0.85):\n",
    "    if v is None:\n",
    "         v = np.full(H.shape[1], 1/H.shape[1])\n",
    "    d = ~(H.any(axis=1))\n",
    "    w = np.full(H.shape[1], 1/H.shape[1])\n",
    "    # start with pi = v\n",
    "    pi = np.zeros(H.shape[0])\n",
    "    pi_new = v\n",
    "    cnt = 0\n",
    "    print(H.shape)\n",
    "    while not np.allclose(pi_new, pi):\n",
    "        pi = pi_new\n",
    "        pi_new = alpha * pi * H + alpha * (pi*d) * w + (1-alpha) * v\n",
    "        cnt += 1\n",
    "    #print(\"Power method2 went through {} iteration\".format(cnt))\n",
    "    return pi_new\n",
    "\n",
    "\n",
    "def power_method1(H, v=None, alpha=0.85):\n",
    "    S = fix_dangling_node(H)\n",
    "    G = form_google_matrix(S, v=None, alpha=alpha)\n",
    "\n",
    "    pi_new = np.full(G.shape[1], 1/G.shape[1])\n",
    "    pi = np.zeros(G.shape[0])\n",
    "    cnt = 0\n",
    "    while not np.allclose(pi_new, pi):\n",
    "        pi = pi_new\n",
    "        pi_new = pi * G\n",
    "        cnt += 1\n",
    "    #print(\"Power method1 went through {} iteration\".format(cnt))\n",
    "    return pi_new\n",
    "\n"
   ]
  },
  {
   "cell_type": "markdown",
   "metadata": {},
   "source": [
    "# Random graphs"
   ]
  },
  {
   "cell_type": "code",
   "execution_count": 3,
   "metadata": {
    "collapsed": true
   },
   "outputs": [],
   "source": [
    "from numpy.random import random\n",
    "\n",
    "def flip(p):\n",
    "    return random() < p\n",
    "\n",
    "def random_pairs(nodes, p):\n",
    "    for i, u in enumerate(nodes):\n",
    "        for j, v in enumerate(nodes):\n",
    "            if i<j and flip(p):\n",
    "                yield u, v\n",
    "\n",
    "def make_random_ER_graph(n, p):\n",
    "    G = nx.Graph()\n",
    "    nodes = range(n)\n",
    "    G.add_nodes_from(nodes)\n",
    "    G.add_edges_from(random_pairs(nodes, p))\n",
    "    return G"
   ]
  },
  {
   "cell_type": "code",
   "execution_count": 4,
   "metadata": {
    "collapsed": true
   },
   "outputs": [],
   "source": [
    "import networkx"
   ]
  },
  {
   "cell_type": "code",
   "execution_count": 5,
   "metadata": {
    "collapsed": true
   },
   "outputs": [],
   "source": [
    "n = 500\n",
    "g = networkx.barabasi_albert_graph(n, n//2) "
   ]
  },
  {
   "cell_type": "code",
   "execution_count": 6,
   "metadata": {
    "collapsed": true
   },
   "outputs": [],
   "source": [
    "m = make_p_matrix(np.matrix(networkx.convert_matrix.to_numpy_matrix(g)))"
   ]
  },
  {
   "cell_type": "code",
   "execution_count": 7,
   "metadata": {},
   "outputs": [
    {
     "name": "stdout",
     "output_type": "stream",
     "text": [
      "(500, 500)\n",
      "<class 'numpy.matrixlib.defmatrix.matrix'>\n"
     ]
    }
   ],
   "source": [
    "print(m.shape)\n",
    "print(type(m))"
   ]
  },
  {
   "cell_type": "code",
   "execution_count": 8,
   "metadata": {},
   "outputs": [
    {
     "name": "stdout",
     "output_type": "stream",
     "text": [
      "(500, 500)\n"
     ]
    }
   ],
   "source": [
    "c = power_method2(m)"
   ]
  },
  {
   "cell_type": "code",
   "execution_count": 9,
   "metadata": {
    "collapsed": true
   },
   "outputs": [],
   "source": [
    "# making sure the matrix sum to 1\n",
    "a = 0\n",
    "for j in range(n):\n",
    "    a += c.item(j)\n",
    "#print(a)"
   ]
  },
  {
   "cell_type": "code",
   "execution_count": 10,
   "metadata": {
    "collapsed": true
   },
   "outputs": [],
   "source": [
    "prob = {}\n",
    "for i in range(n):\n",
    "    prob[i] = c.item(i)\n",
    "#print(prob)"
   ]
  },
  {
   "cell_type": "markdown",
   "metadata": {
    "collapsed": true
   },
   "source": [
    "# Betweenness"
   ]
  },
  {
   "cell_type": "code",
   "execution_count": 11,
   "metadata": {
    "collapsed": true
   },
   "outputs": [],
   "source": [
    "from collections import deque\n",
    "import numpy as np\n",
    "import networkx as nx\n",
    "\n",
    "\n",
    "def Brandes(G):\n",
    "    A = G.nodes()\n",
    "    C = dict((node,0) for node in A)\n",
    "    for node in A:\n",
    "        S = []\n",
    "        P = dict((w,[]) for w in A)\n",
    "        O = dict((t,0) for t in A)\n",
    "        O[node] = 1\n",
    "        D = dict((t,-1) for t in A)\n",
    "        D[node] = 0\n",
    "        Q = deque([])\n",
    "        Q.append(node)\n",
    "        while Q:\n",
    "            a = Q.popleft()\n",
    "            S.append(a)\n",
    "            for i in G.neighbors(a):\n",
    "                if D[i] < 0:\n",
    "                    Q.append(i)\n",
    "                    D[i] = D[a] + 1\n",
    "                if D[i] == D[a] + 1:\n",
    "                    O[i] = O[i] + O[a]\n",
    "                    P[i].append(a)\n",
    "    I = dict((v,0) for v in A)\n",
    "    while S:\n",
    "        w = S.pop()\n",
    "        for v in P[w]:\n",
    "            I[v] = I[v] + ((O[v] / O[w]) * (1+I[w]))\n",
    "            if w != node:\n",
    "                C[w] = C[w] + I[w]\n",
    "    return C\n",
    "\n",
    "\n",
    "G = nx.Graph()\n",
    "G.add_edge(1, 0)\n",
    "G.add_edge(2, 0)\n",
    "G.add_edge(3,0)\n",
    "\n",
    "brandes = Brandes(g)"
   ]
  },
  {
   "cell_type": "code",
   "execution_count": 12,
   "metadata": {
    "collapsed": true
   },
   "outputs": [],
   "source": [
    "x = []\n",
    "y = []\n",
    "for i in range(n):\n",
    "    x.append(prob[i])\n",
    "    y.append(brandes[i])\n",
    "#print(x)\n",
    "#print(y)"
   ]
  },
  {
   "cell_type": "code",
   "execution_count": 13,
   "metadata": {},
   "outputs": [
    {
     "data": {
      "image/png": "[encoded data removed]",
      "text/plain": [
       "<matplotlib.figure.Figure at 0x7fb9fdd7a908>"
      ]
     },
     "metadata": {},
     "output_type": "display_data"
    }
   ],
   "source": [
    "import matplotlib.pyplot as plt\n",
    "plt.plot(y, x, \"o\")\n",
    "plt.xlabel('betweenness')\n",
    "plt.ylabel('probability output of PageRank')\n",
    "plt.show()"
   ]
  },
  {
   "cell_type": "markdown",
   "metadata": {},
   "source": [
    "# Everything in one shot"
   ]
  },
  {
   "cell_type": "code",
   "execution_count": 14,
   "metadata": {
    "collapsed": true
   },
   "outputs": [],
   "source": [
    "import matplotlib.pyplot as plt\n",
    "\n",
    "def make_plots(g):\n",
    "    def make_p_matrix(matrix):\n",
    "        row_sums = matrix.sum(axis=1)\n",
    "        return matrix / row_sums[:]\n",
    "    \n",
    "    def power_method2(H, v=None, alpha=0.85):\n",
    "        if v is None:\n",
    "             v = np.full(H.shape[1], 1/H.shape[1])\n",
    "        d = ~(H.any(axis=1))\n",
    "        w = np.full(H.shape[1], 1/H.shape[1])\n",
    "        # start with pi = v\n",
    "        pi = np.zeros(H.shape[0])\n",
    "        pi_new = v\n",
    "        cnt = 0\n",
    "        while not np.allclose(pi_new, pi):\n",
    "            pi = pi_new\n",
    "            pi_new = alpha * pi * H + alpha * (pi*d) * w + (1-alpha) * v\n",
    "            cnt += 1\n",
    "        #print(\"Power method2 went through {} iteration\".format(cnt))\n",
    "        return pi_new\n",
    "    \n",
    "    m = make_p_matrix(np.matrix(networkx.convert_matrix.to_numpy_matrix(g)))\n",
    "    c = power_method2(m)\n",
    "    brandes = Brandes(g)\n",
    "    x = []\n",
    "    y = []\n",
    "    n = len(g)\n",
    "    print(n)\n",
    "    for i in range(n):\n",
    "        x.append(c.item(i))  # PageRank Probability\n",
    "        y.append(brandes[i]) # Betweenness\n",
    "    plt.plot(y, x, \"o\")\n",
    "    plt.xlabel('betweenness')\n",
    "    plt.ylabel('probability output of PageRank')\n",
    "    plt.show()\n",
    "    \n",
    "    \n",
    "    \n",
    "    "
   ]
  },
  {
   "cell_type": "code",
   "execution_count": 15,
   "metadata": {},
   "outputs": [
    {
     "name": "stdout",
     "output_type": "stream",
     "text": [
      "400\n"
     ]
    },
    {
     "data": {
      "image/png": "[encoded data removed]",
      "text/plain": [
       "<matplotlib.figure.Figure at 0x7fb9f2754da0>"
      ]
     },
     "metadata": {},
     "output_type": "display_data"
    },
    {
     "ename": "NameError",
     "evalue": "name 'savefig' is not defined",
     "output_type": "error",
     "traceback": [
      "\u001b[0;31m---------------------------------------------------------------------------\u001b[0m",
      "\u001b[0;31mNameError\u001b[0m                                 Traceback (most recent call last)",
      "\u001b[0;32m<ipython-input-15-f023a8175c0f>\u001b[0m in \u001b[0;36m<module>\u001b[0;34m()\u001b[0m\n\u001b[1;32m      2\u001b[0m \u001b[0mg\u001b[0m \u001b[0;34m=\u001b[0m \u001b[0mnetworkx\u001b[0m\u001b[0;34m.\u001b[0m\u001b[0mbarabasi_albert_graph\u001b[0m\u001b[0;34m(\u001b[0m\u001b[0mn\u001b[0m\u001b[0;34m,\u001b[0m \u001b[0;36m100\u001b[0m\u001b[0;34m,\u001b[0m \u001b[0mseed\u001b[0m\u001b[0;34m=\u001b[0m\u001b[0;36m10\u001b[0m\u001b[0;34m)\u001b[0m\u001b[0;34m\u001b[0m\u001b[0m\n\u001b[1;32m      3\u001b[0m \u001b[0mmake_plots\u001b[0m\u001b[0;34m(\u001b[0m\u001b[0mg\u001b[0m\u001b[0;34m)\u001b[0m\u001b[0;34m\u001b[0m\u001b[0m\n\u001b[0;32m----> 4\u001b[0;31m \u001b[0msavefig\u001b[0m\u001b[0;34m(\u001b[0m\u001b[0;34m'sample.png'\u001b[0m\u001b[0;34m)\u001b[0m\u001b[0;34m\u001b[0m\u001b[0m\n\u001b[0m",
      "\u001b[0;31mNameError\u001b[0m: name 'savefig' is not defined"
     ]
    }
   ],
   "source": [
    "n = 400\n",
    "g = networkx.barabasi_albert_graph(n, 100, seed=10)\n",
    "make_plots(g)\n",
    "savefig('sample.png')"
   ]
  },
  {
   "cell_type": "code",
   "execution_count": 30,
   "metadata": {},
   "outputs": [
    {
     "name": "stdout",
     "output_type": "stream",
     "text": [
      "500\n"
     ]
    },
    {
     "data": {
      "image/png": "[encoded data removed]",
      "text/plain": [
       "<matplotlib.figure.Figure at 0x11664e780>"
      ]
     },
     "metadata": {},
     "output_type": "display_data"
    }
   ],
   "source": [
    "n = 500\n",
    "g = networkx.barabasi_albert_graph(n, n//10, seed=10)\n",
    "make_plots(g)"
   ]
  },
  {
   "cell_type": "code",
   "execution_count": 33,
   "metadata": {},
   "outputs": [
    {
     "name": "stdout",
     "output_type": "stream",
     "text": [
      "500\n"
     ]
    },
    {
     "data": {
      "image/png": "[encoded data removed]",
      "text/plain": [
       "<matplotlib.figure.Figure at 0x116416710>"
      ]
     },
     "metadata": {},
     "output_type": "display_data"
    }
   ],
   "source": [
    "g = networkx.erdos_renyi_graph(500, p=0.5, seed=10)\n",
    "make_plots(g)"
   ]
  },
  {
   "cell_type": "code",
   "execution_count": 34,
   "metadata": {},
   "outputs": [
    {
     "name": "stdout",
     "output_type": "stream",
     "text": [
      "1000\n"
     ]
    },
    {
     "data": {
      "image/png": "[encoded data removed]",
      "text/plain": [
       "<matplotlib.figure.Figure at 0x1162771d0>"
      ]
     },
     "metadata": {},
     "output_type": "display_data"
    }
   ],
   "source": [
    "g = networkx.erdos_renyi_graph(1000, p=0.3, seed=10)\n",
    "make_plots(g)"
   ]
  },
  {
   "cell_type": "code",
   "execution_count": 35,
   "metadata": {},
   "outputs": [
    {
     "name": "stdout",
     "output_type": "stream",
     "text": [
      "1000\n"
     ]
    },
    {
     "data": {
      "image/png": "[encoded data removed]",
      "text/plain": [
       "<matplotlib.figure.Figure at 0x11631eac8>"
      ]
     },
     "metadata": {},
     "output_type": "display_data"
    }
   ],
   "source": [
    "g = networkx.barabasi_albert_graph(1000, 300, seed=10)\n",
    "make_plots(g)"
   ]
  },
  {
   "cell_type": "code",
   "execution_count": 41,
   "metadata": {
    "collapsed": true
   },
   "outputs": [],
   "source": [
    "def make_graph_from_dataset(filepath):\n",
    "    with open(filepath) as f:\n",
    "        a = f.readlines()\n",
    "        edges = []\n",
    "        for line in a:\n",
    "            if line.startswith(\"#\"):\n",
    "                continue\n",
    "            else:\n",
    "                a,b = line.strip().split()\n",
    "                edges.append((a,b))\n",
    "    G = nx.Graph()\n",
    "    G.add_edges_from(edges)\n",
    "    return G\n",
    "                \n",
    "            "
   ]
  },
  {
   "cell_type": "code",
   "execution_count": 45,
   "metadata": {},
   "outputs": [
    {
     "name": "stdout",
     "output_type": "stream",
     "text": [
      "5242\n"
     ]
    },
    {
     "ename": "KeyError",
     "evalue": "0",
     "output_type": "error",
     "traceback": [
      "\u001b[0;31m---------------------------------------------------------------------------\u001b[0m",
      "\u001b[0;31mKeyError\u001b[0m                                  Traceback (most recent call last)",
      "\u001b[0;32m<ipython-input-45-6cfa400ecef4>\u001b[0m in \u001b[0;36m<module>\u001b[0;34m()\u001b[0m\n\u001b[1;32m      1\u001b[0m \u001b[0mg\u001b[0m \u001b[0;34m=\u001b[0m \u001b[0mmake_graph_from_dataset\u001b[0m\u001b[0;34m(\u001b[0m\u001b[0;34m'data/CA-GrQc.txt'\u001b[0m\u001b[0;34m)\u001b[0m\u001b[0;34m\u001b[0m\u001b[0m\n\u001b[1;32m      2\u001b[0m \u001b[0mlen\u001b[0m\u001b[0;34m(\u001b[0m\u001b[0mg\u001b[0m\u001b[0;34m)\u001b[0m\u001b[0;34m\u001b[0m\u001b[0m\n\u001b[0;32m----> 3\u001b[0;31m \u001b[0mmake_plots\u001b[0m\u001b[0;34m(\u001b[0m\u001b[0mg\u001b[0m\u001b[0;34m)\u001b[0m\u001b[0;34m\u001b[0m\u001b[0m\n\u001b[0m",
      "\u001b[0;32m<ipython-input-25-9d57d6b15719>\u001b[0m in \u001b[0;36mmake_plots\u001b[0;34m(g)\u001b[0m\n\u001b[1;32m     31\u001b[0m     \u001b[0;32mfor\u001b[0m \u001b[0mi\u001b[0m \u001b[0;32min\u001b[0m \u001b[0mrange\u001b[0m\u001b[0;34m(\u001b[0m\u001b[0mn\u001b[0m\u001b[0;34m)\u001b[0m\u001b[0;34m:\u001b[0m\u001b[0;34m\u001b[0m\u001b[0m\n\u001b[1;32m     32\u001b[0m         \u001b[0mx\u001b[0m\u001b[0;34m.\u001b[0m\u001b[0mappend\u001b[0m\u001b[0;34m(\u001b[0m\u001b[0mc\u001b[0m\u001b[0;34m.\u001b[0m\u001b[0mitem\u001b[0m\u001b[0;34m(\u001b[0m\u001b[0mi\u001b[0m\u001b[0;34m)\u001b[0m\u001b[0;34m)\u001b[0m  \u001b[0;31m# PageRank Probability\u001b[0m\u001b[0;34m\u001b[0m\u001b[0m\n\u001b[0;32m---> 33\u001b[0;31m         \u001b[0my\u001b[0m\u001b[0;34m.\u001b[0m\u001b[0mappend\u001b[0m\u001b[0;34m(\u001b[0m\u001b[0mbrandes\u001b[0m\u001b[0;34m[\u001b[0m\u001b[0mi\u001b[0m\u001b[0;34m]\u001b[0m\u001b[0;34m)\u001b[0m \u001b[0;31m# Betweenness\u001b[0m\u001b[0;34m\u001b[0m\u001b[0m\n\u001b[0m\u001b[1;32m     34\u001b[0m     \u001b[0mplt\u001b[0m\u001b[0;34m.\u001b[0m\u001b[0mplot\u001b[0m\u001b[0;34m(\u001b[0m\u001b[0my\u001b[0m\u001b[0;34m,\u001b[0m \u001b[0mx\u001b[0m\u001b[0;34m,\u001b[0m \u001b[0;34m\"o\"\u001b[0m\u001b[0;34m)\u001b[0m\u001b[0;34m\u001b[0m\u001b[0m\n\u001b[1;32m     35\u001b[0m     \u001b[0mplt\u001b[0m\u001b[0;34m.\u001b[0m\u001b[0mxlabel\u001b[0m\u001b[0;34m(\u001b[0m\u001b[0;34m'betweenness'\u001b[0m\u001b[0;34m)\u001b[0m\u001b[0;34m\u001b[0m\u001b[0m\n",
      "\u001b[0;31mKeyError\u001b[0m: 0"
     ]
    }
   ],
   "source": [
    "g = make_graph_from_dataset('data/CA-GrQc.txt')\n",
    "len(g)\n",
    "make_plots(g)"
   ]
  },
  {
   "cell_type": "code",
   "execution_count": null,
   "metadata": {
    "collapsed": true
   },
   "outputs": [],
   "source": []
  }
 ],
 "metadata": {
  "kernelspec": {
   "display_name": "Python 3",
   "language": "python",
   "name": "python3"
  },
  "language_info": {
   "codemirror_mode": {
    "name": "ipython",
    "version": 3
   },
   "file_extension": ".py",
   "mimetype": "text/x-python",
   "name": "python",
   "nbconvert_exporter": "python",
   "pygments_lexer": "ipython3",
   "version": "3.5.2"
  }
 },
 "nbformat": 4,
 "nbformat_minor": 2
}
