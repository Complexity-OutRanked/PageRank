{
 "cells": [
  {
   "cell_type": "markdown",
   "metadata": {},
   "source": [
    "# Web Hyperlink Matrix\n",
    "*H* is a *n* x *n* **Hyperlink Matrix** where *n* is the number of webpages. If webpage *i* has *k* number of links to other webpages and webpage *i* links to webpage *j*, then the element in row *i* and column *j* is *1/k*. Otherwise, element in row *i* and column *j* is 0"
   ]
  },
  {
   "cell_type": "markdown",
   "metadata": {},
   "source": [
    "\\begin{align}\n",
    "H_{ij} = \\frac{1}{k}\n",
    "\\end{align}"
   ]
  },
  {
   "cell_type": "markdown",
   "metadata": {},
   "source": [
    "I will use the following Hyperlink Matrix for the simple implementation version of PageRank algorithm"
   ]
  },
  {
   "cell_type": "markdown",
   "metadata": {},
   "source": [
    "\\begin{align}\n",
    "H = \n",
    " \\begin{pmatrix}\n",
    "  0 & 1 & 0 & 0 \\\\\n",
    "  0 & 0 & 1 & 0 \\\\\n",
    "  \\frac{1}{2} & 0 & 0 & \\frac{1}{2} \\\\\n",
    "  0 & 0 & 0 & 0\n",
    " \\end{pmatrix}\n",
    "\\end{align}"
   ]
  },
  {
   "cell_type": "code",
   "execution_count": 1,
   "metadata": {
    "collapsed": true
   },
   "outputs": [],
   "source": [
    "import numpy as np\n",
    "H = np.matrix([[0, 1, 0, 0], \n",
    "               [0, 0, 1, 0],\n",
    "               [1/2, 0, 0, 1/2],\n",
    "               [0, 0, 0, 0]])\n",
    "n = H.shape[1]"
   ]
  },
  {
   "cell_type": "markdown",
   "metadata": {},
   "source": [
    "# Dangling Node Fix\n",
    "**Dangling node** is a node that does not link to any other nodes. If a random surfer lands on a dangling node webpage, the surfer cannot go to any other webpages with clicking a link. \n",
    "There are many options to fix dangling node problem, but Google does not reveal which option it employs.\n",
    "\n",
    "Since many literature suggests uniform probability distribution for the dangling node row, I will also adopt this method to model the Web Hyperlink Matrix"
   ]
  },
  {
   "cell_type": "markdown",
   "metadata": {},
   "source": [
    "\\begin{align}\n",
    "S = H + dw\n",
    "\\end{align}"
   ]
  },
  {
   "cell_type": "code",
   "execution_count": 2,
   "metadata": {
    "collapsed": true
   },
   "outputs": [],
   "source": [
    "def fix_dangling_node(H):\n",
    "    # Finds which rows have all elements zeros\n",
    "    # d is a column vector that identifies dangling nodes\n",
    "    d = ~(H.any(axis=1))\n",
    "    # w is a uniform row vector\n",
    "    w = np.full(H.shape[1], 1/H.shape[1])\n",
    "    S = H + d*w\n",
    "    return S"
   ]
  },
  {
   "cell_type": "code",
   "execution_count": 3,
   "metadata": {},
   "outputs": [
    {
     "data": {
      "text/plain": [
       "matrix([[ 0.  ,  1.  ,  0.  ,  0.  ],\n",
       "        [ 0.  ,  0.  ,  1.  ,  0.  ],\n",
       "        [ 0.5 ,  0.  ,  0.  ,  0.5 ],\n",
       "        [ 0.25,  0.25,  0.25,  0.25]])"
      ]
     },
     "execution_count": 3,
     "metadata": {},
     "output_type": "execute_result"
    }
   ],
   "source": [
    "S = fix_dangling_node(H)\n",
    "S"
   ]
  },
  {
   "cell_type": "markdown",
   "metadata": {},
   "source": [
    "# Google Matrix"
   ]
  },
  {
   "cell_type": "markdown",
   "metadata": {},
   "source": [
    "To model the overall behavior of a random web surfer, Google forms the matrix $G$\n",
    "where $0 \\le \\alpha \\lt 1$, $\\mathbb{1}$ is the column vector of ones, and $v$ is a row probability distribution vector called *personalization vector*"
   ]
  },
  {
   "cell_type": "markdown",
   "metadata": {},
   "source": [
    "\\begin{align}\n",
    "G = \\alpha S + (1-\\alpha)\\mathbb{1}v \n",
    "\\end{align}"
   ]
  },
  {
   "cell_type": "markdown",
   "metadata": {},
   "source": [
    "**A damping factor** $\\alpha$ in the Google matrix indicates that random web surfers move to a different webpage by some means other than selecting a link with probability $1-\\alpha$"
   ]
  },
  {
   "cell_type": "code",
   "execution_count": 4,
   "metadata": {
    "collapsed": true
   },
   "outputs": [],
   "source": [
    "def form_google_matrix(S, v, alpha=0.85):\n",
    "    one_vector = np.ones(S.shape[0])\n",
    "    return alpha*S + (1-alpha)*one_vector*v"
   ]
  },
  {
   "cell_type": "code",
   "execution_count": 5,
   "metadata": {},
   "outputs": [
    {
     "data": {
      "text/plain": [
       "matrix([[ 0.0375,  0.8875,  0.0375,  0.0375],\n",
       "        [ 0.0375,  0.0375,  0.8875,  0.0375],\n",
       "        [ 0.4625,  0.0375,  0.0375,  0.4625],\n",
       "        [ 0.25  ,  0.25  ,  0.25  ,  0.25  ]])"
      ]
     },
     "execution_count": 5,
     "metadata": {},
     "output_type": "execute_result"
    }
   ],
   "source": [
    "v = np.full(H.shape[1], 1/H.shape[1]) # Uniform vector\n",
    "G = form_google_matrix(S, v)\n",
    "G"
   ]
  },
  {
   "cell_type": "markdown",
   "metadata": {
    "collapsed": true
   },
   "source": [
    "# Computing PageRank scores"
   ]
  },
  {
   "cell_type": "markdown",
   "metadata": {},
   "source": [
    "Since each element of $G_{ij}$ of $G$ lies between 0 and 1 ($0 \\le G_{ij} \\le 1$) and the sum of elements in each row of $G$ is 1, the Google Matrix $G$ is called *row stochastic matrix*. In addition, $\\lambda = 1$ is not a repeated eigenvalue of $G$ and is greater in magnitude than any other eigenvalue of G. Therefore, the eigensystem $\\pi G = \\pi$ has a unique solution, where $\\pi$is a **row probabability distribution vector**."
   ]
  },
  {
   "cell_type": "markdown",
   "metadata": {},
   "source": [
    "\\begin{align}\n",
    "\\pi G = \\pi\n",
    "\\end{align}"
   ]
  },
  {
   "cell_type": "markdown",
   "metadata": {},
   "source": [
    "The $i$th entry of $\\pi$ is the PageRank score for webpage $i$, and $\\pi$ is called **PageRank vector**"
   ]
  },
  {
   "cell_type": "markdown",
   "metadata": {},
   "source": [
    "## Power method"
   ]
  },
  {
   "cell_type": "markdown",
   "metadata": {},
   "source": [
    "The oldest and easiest technique for approximating a dominant eigenvector of a matrix is **power method**. The power method converges when the dominant eigenvalue is not a repeated eigenvalue for most starting vectors. Since $\\lambda = 1$ is the dominant eigenvalue of $G$ and $\\pi$ is the dominant left eigenvector, *the power method applied to $G$ converges to the PageRank vector*"
   ]
  },
  {
   "cell_type": "code",
   "execution_count": 6,
   "metadata": {
    "collapsed": true
   },
   "outputs": [],
   "source": [
    "def power_method1(G):\n",
    "    pi_new = np.full(H.shape[1], 1/H.shape[1])\n",
    "    pi = np.zeros(H.shape[0])\n",
    "    cnt = 0\n",
    "    while not np.allclose(pi_new, pi):\n",
    "        pi = pi_new\n",
    "        pi_new = pi * G\n",
    "        cnt += 1\n",
    "    #print(\"Power method1 went through {} iteration\".format(cnt))\n",
    "    return pi_new    \n",
    "\n",
    "'''\n",
    "Here, we do not use pi = pi * G since multiplication of pi with G is expensive. \n",
    "Therefore, since S = H + dw and G = alpha * S + (1-alpha) 1 v, \n",
    "we can break down the equation for faster calculation\n",
    "'''\n",
    "def power_method2(H, v, alpha=0.85):\n",
    "    d = ~(H.any(axis=1))\n",
    "    w = np.full(H.shape[1], 1/H.shape[1])\n",
    "    # start with pi = v\n",
    "    pi = np.zeros(H.shape[0])\n",
    "    pi_new = v\n",
    "    cnt = 0\n",
    "    while not np.allclose(pi_new, pi):\n",
    "        pi = pi_new\n",
    "        pi_new = alpha * pi * H + alpha * (pi*d) * w + (1-alpha) * v\n",
    "        cnt += 1\n",
    "    #print(\"Power method2 went through {} iteration\".format(cnt))\n",
    "    return pi_new\n"
   ]
  },
  {
   "cell_type": "code",
   "execution_count": 7,
   "metadata": {},
   "outputs": [
    {
     "name": "stdout",
     "output_type": "stream",
     "text": [
      "1000 loops, best of 3: 1.58 ms per loop\n"
     ]
    }
   ],
   "source": [
    "%timeit power_method1(G)"
   ]
  },
  {
   "cell_type": "code",
   "execution_count": 8,
   "metadata": {},
   "outputs": [
    {
     "name": "stdout",
     "output_type": "stream",
     "text": [
      "100 loops, best of 3: 2.21 ms per loop\n"
     ]
    }
   ],
   "source": [
    "%timeit power_method2(H,v)"
   ]
  },
  {
   "cell_type": "code",
   "execution_count": 9,
   "metadata": {},
   "outputs": [
    {
     "data": {
      "text/plain": [
       "matrix([[ 0.29698616,  0.28367298,  0.27235469,  0.14698616]])"
      ]
     },
     "execution_count": 9,
     "metadata": {},
     "output_type": "execute_result"
    }
   ],
   "source": [
    "v1 = np.array([1,0,0,0])\n",
    "power_method2(H, v1)"
   ]
  },
  {
   "cell_type": "code",
   "execution_count": 10,
   "metadata": {},
   "outputs": [
    {
     "data": {
      "text/plain": [
       "matrix([[ 0.2115298 ,  0.26369286,  0.31324753,  0.2115298 ]])"
      ]
     },
     "execution_count": 10,
     "metadata": {},
     "output_type": "execute_result"
    }
   ],
   "source": [
    "power_method2(H, v, alpha=0.95)"
   ]
  },
  {
   "cell_type": "code",
   "execution_count": 11,
   "metadata": {},
   "outputs": [
    {
     "data": {
      "text/plain": [
       "matrix([[ 0.23830397,  0.27111286,  0.30227919,  0.18830397]])"
      ]
     },
     "execution_count": 11,
     "metadata": {},
     "output_type": "execute_result"
    }
   ],
   "source": [
    "power_method2(H, v1, alpha=0.95)"
   ]
  },
  {
   "cell_type": "code",
   "execution_count": null,
   "metadata": {
    "collapsed": true
   },
   "outputs": [],
   "source": []
  },
  {
   "cell_type": "code",
   "execution_count": null,
   "metadata": {
    "collapsed": true
   },
   "outputs": [],
   "source": []
  },
  {
   "cell_type": "markdown",
   "metadata": {},
   "source": [
    "# Useful References\n",
    "The majority of this jupyter notebook content is from [Google’s PageRank: The Math Behind the Search Engine](http://www.cems.uvm.edu/%7Etlakoba/AppliedUGMath/other_Google/Wills.pdf)\n",
    "* [python - Finding which rows have all elements as zeros in a matrix with numpy - Stack Overflow](https://stackoverflow.com/questions/23726026/finding-which-rows-have-all-elements-as-zeros-in-a-matrix-with-numpy)"
   ]
  },
  {
   "cell_type": "code",
   "execution_count": null,
   "metadata": {
    "collapsed": true
   },
   "outputs": [],
   "source": []
  }
 ],
 "metadata": {
  "kernelspec": {
   "display_name": "Python 3",
   "language": "python",
   "name": "python3"
  },
  "language_info": {
   "codemirror_mode": {
    "name": "ipython",
    "version": 3
   },
   "file_extension": ".py",
   "mimetype": "text/x-python",
   "name": "python",
   "nbconvert_exporter": "python",
   "pygments_lexer": "ipython3",
   "version": "3.6.1"
  }
 },
 "nbformat": 4,
 "nbformat_minor": 2
}
