{
 "cells": [
  {
   "cell_type": "code",
   "execution_count": 1,
   "metadata": {
    "collapsed": true
   },
   "outputs": [],
   "source": [
    "from collections import Counter\n",
    "from pathlib import Path\n",
    "import operator\n",
    "import heapq\n",
    "import networkx as nx"
   ]
  },
  {
   "cell_type": "markdown",
   "metadata": {},
   "source": [
    "Finds the number of times the \"searched\" word appears in the article"
   ]
  },
  {
   "cell_type": "code",
   "execution_count": 29,
   "metadata": {
    "collapsed": true
   },
   "outputs": [],
   "source": [
    "def read_text_file(filepath,word):\n",
    "    count = 0\n",
    "    with open(filepath) as f:\n",
    "        a = f.readlines()\n",
    "        for line in a:\n",
    "            words = line.rstrip().lower().split()\n",
    "            for i in words:\n",
    "                if i == word:\n",
    "                    count = count+1\n",
    "        return count\n",
    "    "
   ]
  },
  {
   "cell_type": "code",
   "execution_count": 31,
   "metadata": {
    "collapsed": true
   },
   "outputs": [],
   "source": [
    "def run_through_files(word):    \n",
    "    pathlist = Path('plaintext_articles')\n",
    "    Count_doc = dict()\n",
    "    num_doc = dict()\n",
    "    i = 0\n",
    "    for path in pathlist.iterdir():\n",
    "        path_in_str = str(path)\n",
    "        count = read_text_file(path_in_str,word)\n",
    "        Count_doc[path_in_str] = count\n",
    "        num_doc[path_in_str] = i\n",
    "        i+= 1\n",
    "    max_100_words = heapq.nlargest(100, Count_doc, key=Count_doc.get)\n",
    "    max_word = heapq.nlargest(10, Count_doc, key=Count_doc.get)\n",
    "    return max_word, max_100_words, Count_doc"
   ]
  },
  {
   "cell_type": "code",
   "execution_count": 48,
   "metadata": {},
   "outputs": [],
   "source": [
    "def run_through_files(list_word):    \n",
    "    pathlist = Path('plaintext_articles')\n",
    "    Count_doc = dict()\n",
    "    num_doc = dict()\n",
    "    i = 0\n",
    "    for path in pathlist.iterdir():\n",
    "        path_in_str = str(path)\n",
    "        countlist = []\n",
    "        for word in list_word:\n",
    "            count = read_text_file(path_in_str,word)\n",
    "            countlist.append(count)\n",
    "        Count_doc[path_in_str] = countlist\n",
    "        num_doc[path_in_str] = i\n",
    "        i+= 1\n",
    "    max_100_words = heapq.nlargest(100, Count_doc, key=Count_doc.get)\n",
    "    max_word = heapq.nlargest(10, Count_doc, key=Count_doc.get)\n",
    "    return max_word, max_100_words, Count_doc"
   ]
  },
  {
   "cell_type": "markdown",
   "metadata": {},
   "source": [
    "Finds the page ranking for each article"
   ]
  },
  {
   "cell_type": "code",
   "execution_count": 36,
   "metadata": {
    "collapsed": true
   },
   "outputs": [],
   "source": [
    "import numpy as np\n",
    "\n",
    "def make_p_matrix(matrix):\n",
    "    row_sums = matrix.sum(axis=1)\n",
    "    return matrix / row_sums[:]\n",
    "\n",
    "def fix_dangling_node(H):\n",
    "    # Finds which rows have all elements zeros\n",
    "    # d is a column vector that identifies dangling nodes\n",
    "    d = ~(H.any(axis=1))\n",
    "    # w is a uniform row vector\n",
    "    w = np.full(H.shape[1], 1/H.shape[1])\n",
    "    S = H + d*w\n",
    "    return S\n",
    "\n",
    "def form_google_matrix(S, v=None, alpha=0.85):\n",
    "    if v is None:\n",
    "         v = np.full(S.shape[1], 1/S.shape[1])\n",
    "    one_vector = np.ones(S.shape[0])\n",
    "    return alpha*S + (1-alpha)*one_vector*v\n",
    "\n",
    "\n",
    "def power_method2(H, v=None, alpha=0.85):\n",
    "    if v is None:\n",
    "         v = np.full(H.shape[1], 1/H.shape[1])\n",
    "    d = ~(H.any(axis=1))\n",
    "    w = np.full(H.shape[1], 1/H.shape[1])\n",
    "    # start with pi = v\n",
    "    pi = np.zeros(H.shape[0])\n",
    "    pi_new = v\n",
    "    cnt = 0\n",
    "    print(H.shape)\n",
    "    while not np.allclose(pi_new, pi):\n",
    "        pi = pi_new\n",
    "        pi_new = alpha * pi * H + alpha * (pi*d) * w + (1-alpha) * v\n",
    "        cnt += 1\n",
    "    #print(\"Power method2 went through {} iteration\".format(cnt))\n",
    "    return pi_new\n",
    "\n",
    "\n",
    "def power_method1(H, v=None, alpha=0.85):\n",
    "    S = fix_dangling_node(H)\n",
    "    G = form_google_matrix(S, v=None, alpha=alpha)\n",
    "\n",
    "    pi_new = np.full(G.shape[1], 1/G.shape[1])\n",
    "    pi = np.zeros(G.shape[0])\n",
    "    cnt = 0\n",
    "    while not np.allclose(pi_new, pi):\n",
    "        pi = pi_new\n",
    "        pi_new = pi * G\n",
    "        cnt += 1\n",
    "    #print(\"Power method1 went through {} iteration\".format(cnt))\n",
    "    return pi_new\n",
    "\n"
   ]
  },
  {
   "cell_type": "code",
   "execution_count": 37,
   "metadata": {
    "collapsed": true
   },
   "outputs": [],
   "source": [
    "import matplotlib.pyplot as plt\n",
    "\n",
    "def find_page_rank(g):\n",
    "    def make_p_matrix(matrix):\n",
    "        row_sums = matrix.sum(axis=1)\n",
    "        return matrix / row_sums[:]\n",
    "    \n",
    "    def power_method2(H, v=None, alpha=0.85):\n",
    "        if v is None:\n",
    "             v = np.full(H.shape[1], 1/H.shape[1])\n",
    "        d = ~(H.any(axis=1))\n",
    "        w = np.full(H.shape[1], 1/H.shape[1])\n",
    "        # start with pi = v\n",
    "        pi = np.zeros(H.shape[0])\n",
    "        pi_new = v\n",
    "        cnt = 0\n",
    "        while not np.allclose(pi_new, pi):\n",
    "            pi = pi_new\n",
    "            pi_new = alpha * pi * H + alpha * (pi*d) * w + (1-alpha) * v\n",
    "            cnt += 1\n",
    "        #print(\"Power method2 went through {} iteration\".format(cnt))\n",
    "        return pi_new\n",
    "    x = []\n",
    "    n = len(g)\n",
    "    m = make_p_matrix(np.matrix(nx.convert_matrix.to_numpy_matrix(g), dtype=np.float64))\n",
    "    c = power_method2(m)\n",
    "    for i in range(n):\n",
    "        x.append(c.item(i))  # PageRank Probability\n",
    "    return x"
   ]
  },
  {
   "cell_type": "code",
   "execution_count": 38,
   "metadata": {
    "collapsed": true
   },
   "outputs": [],
   "source": [
    "def make_graph_from_dataset(filepath):\n",
    "    with open(filepath) as f:\n",
    "        a = f.readlines()\n",
    "        edges = []\n",
    "        for line in a:\n",
    "            if line.startswith('#') or line.startswith('\"#'):\n",
    "                continue\n",
    "            else:\n",
    "                a,b = line.strip().split()\n",
    "                edges.append((a,b))\n",
    "    G = nx.Graph()\n",
    "    G.add_edges_from(edges)\n",
    "    return G"
   ]
  },
  {
   "cell_type": "code",
   "execution_count": 42,
   "metadata": {
    "collapsed": true
   },
   "outputs": [],
   "source": [
    "def compare(c_rank,max_100_words, Count_doc):\n",
    "    page_rank = dict()\n",
    "    for word in max_100_words:\n",
    "        num = Count_doc.get(word)\n",
    "        rank = c_rank[num]\n",
    "        page_rank[word] = rank\n",
    "    page_rank_10 = heapq.nlargest(10, page_rank, key=page_rank.get)\n",
    "    return page_rank_10"
   ]
  },
  {
   "cell_type": "markdown",
   "metadata": {},
   "source": [
    "Finds the page rank of the 100 articles with the highest frequency of the word and outputs the ten articles with the highest page rank."
   ]
  },
  {
   "cell_type": "code",
   "execution_count": 49,
   "metadata": {},
   "outputs": [],
   "source": [
    "g = make_graph_from_dataset('links.tsv')\n",
    "c_rank = find_page_rank(g)\n",
    "max_word, max_100_words, Count_doc = run_through_files(['obsure','town'])\n"
   ]
  },
  {
   "cell_type": "code",
   "execution_count": 46,
   "metadata": {},
   "outputs": [
    {
     "name": "stdout",
     "output_type": "stream",
     "text": [
      "['plaintext_articles/Templon.txt', 'plaintext_articles/Automatic_number_plate_recognition.txt', 'plaintext_articles/Voynich_manuscript.txt', 'plaintext_articles/Baghdad.txt', 'plaintext_articles/Sociocultural_evolution.txt', 'plaintext_articles/Homestar_Runner.txt', 'plaintext_articles/Michelangelo.txt', 'plaintext_articles/Floppy_disk.txt', 'plaintext_articles/Picts.txt', 'plaintext_articles/Mary_Seacole.txt']\n",
      "['plaintext_articles/Homestar_Runner.txt', 'plaintext_articles/Genealogy.txt', 'plaintext_articles/Floppy_disk.txt', 'plaintext_articles/Baghdad.txt', 'plaintext_articles/Sociocultural_evolution.txt', 'plaintext_articles/Picts.txt', 'plaintext_articles/Mary_Seacole.txt', 'plaintext_articles/King_Arthur.txt', 'plaintext_articles/Italo_disco.txt', 'plaintext_articles/Michelangelo.txt']\n"
     ]
    }
   ],
   "source": [
    "page_rank_10 = compare(c_rank,max_100_words,Count_doc)\n",
    "print(max_word)\n",
    "print(page_rank_10)"
   ]
  },
  {
   "cell_type": "code",
   "execution_count": null,
   "metadata": {
    "collapsed": true
   },
   "outputs": [],
   "source": []
  }
 ],
 "metadata": {
  "kernelspec": {
   "display_name": "Python 3",
   "language": "python",
   "name": "python3"
  },
  "language_info": {
   "codemirror_mode": {
    "name": "ipython",
    "version": 3
   },
   "file_extension": ".py",
   "mimetype": "text/x-python",
   "name": "python",
   "nbconvert_exporter": "python",
   "pygments_lexer": "ipython3",
   "version": "3.5.2"
  }
 },
 "nbformat": 4,
 "nbformat_minor": 2
}
